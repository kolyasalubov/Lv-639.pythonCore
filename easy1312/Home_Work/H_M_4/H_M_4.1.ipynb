{
 "cells": [
  {
   "cell_type": "code",
   "execution_count": 1,
   "id": "bbe956ba",
   "metadata": {},
   "outputs": [
    {
     "name": "stdout",
     "output_type": "stream",
     "text": [
      "Enter number, factorial of which we should find = 10\n",
      "3628800\n"
     ]
    }
   ],
   "source": [
    "number_to_fuctorial=int(input(\"Enter number, factorial of which we should find = \"))\n",
    "fact=1\n",
    "while(number_to_fuctorial>0):\n",
    "    fact*=number_to_fuctorial\n",
    "    number_to_fuctorial-=1\n",
    "print(fact)"
   ]
  },
  {
   "cell_type": "code",
   "execution_count": null,
   "id": "d1e99588",
   "metadata": {},
   "outputs": [],
   "source": []
  }
 ],
 "metadata": {
  "kernelspec": {
   "display_name": "Python 3",
   "language": "python",
   "name": "python3"
  },
  "language_info": {
   "codemirror_mode": {
    "name": "ipython",
    "version": 3
   },
   "file_extension": ".py",
   "mimetype": "text/x-python",
   "name": "python",
   "nbconvert_exporter": "python",
   "pygments_lexer": "ipython3",
   "version": "3.8.8"
  }
 },
 "nbformat": 4,
 "nbformat_minor": 5
}
