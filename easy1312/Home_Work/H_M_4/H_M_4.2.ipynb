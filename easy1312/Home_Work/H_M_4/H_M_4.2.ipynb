{
 "cells": [
  {
   "cell_type": "code",
   "execution_count": 1,
   "id": "8f8a6493",
   "metadata": {},
   "outputs": [
    {
     "name": "stdout",
     "output_type": "stream",
     "text": [
      "[3.0, 6.0, 5.0, 2.0, 45.0, 23.0, 8.0, 123.0, 9.0, 0.0]\n"
     ]
    }
   ],
   "source": [
    "list_of_integer=[3,6,5,2,45,23,8,123,9,0]\n",
    "for i in range(len(list_of_integer)):\n",
    "    list_of_integer[i]=float(list_of_integer[i])\n",
    "print(list_of_integer)"
   ]
  },
  {
   "cell_type": "code",
   "execution_count": null,
   "id": "c6ebfc7f",
   "metadata": {},
   "outputs": [],
   "source": []
  }
 ],
 "metadata": {
  "kernelspec": {
   "display_name": "Python 3",
   "language": "python",
   "name": "python3"
  },
  "language_info": {
   "codemirror_mode": {
    "name": "ipython",
    "version": 3
   },
   "file_extension": ".py",
   "mimetype": "text/x-python",
   "name": "python",
   "nbconvert_exporter": "python",
   "pygments_lexer": "ipython3",
   "version": "3.8.8"
  }
 },
 "nbformat": 4,
 "nbformat_minor": 5
}
