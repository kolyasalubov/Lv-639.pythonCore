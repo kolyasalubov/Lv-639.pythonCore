{
 "cells": [
  {
   "cell_type": "code",
   "execution_count": 4,
   "id": "96e1339d",
   "metadata": {},
   "outputs": [
    {
     "name": "stdout",
     "output_type": "stream",
     "text": [
      "The largest number is 13\n"
     ]
    }
   ],
   "source": [
    "def largestNumber(num_1,num_2):\n",
    "    if num_1 > num_2:\n",
    "        return num_1\n",
    "    elif num_1 < num_2:\n",
    "        return num_2\n",
    "    else:\n",
    "        return None\n",
    "number_1=11\n",
    "number_2=13\n",
    "result=largestNumber(number_1,number_2)\n",
    "print(\"The largest number is \",end=\"\")\n",
    "print(result) if result != None else print(\"not defined. They equal\")"
   ]
  },
  {
   "cell_type": "code",
   "execution_count": null,
   "id": "48f3405c",
   "metadata": {},
   "outputs": [],
   "source": []
  },
  {
   "cell_type": "code",
   "execution_count": null,
   "id": "a7abb3de",
   "metadata": {},
   "outputs": [],
   "source": []
  }
 ],
 "metadata": {
  "kernelspec": {
   "display_name": "Python 3",
   "language": "python",
   "name": "python3"
  },
  "language_info": {
   "codemirror_mode": {
    "name": "ipython",
    "version": 3
   },
   "file_extension": ".py",
   "mimetype": "text/x-python",
   "name": "python",
   "nbconvert_exporter": "python",
   "pygments_lexer": "ipython3",
   "version": "3.8.8"
  }
 },
 "nbformat": 4,
 "nbformat_minor": 5
}
