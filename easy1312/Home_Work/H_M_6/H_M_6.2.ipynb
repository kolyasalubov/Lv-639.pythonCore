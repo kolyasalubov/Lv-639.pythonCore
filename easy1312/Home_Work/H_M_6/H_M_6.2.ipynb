{
 "cells": [
  {
   "cell_type": "code",
   "execution_count": 8,
   "id": "7f23e2fa",
   "metadata": {},
   "outputs": [
    {
     "name": "stdout",
     "output_type": "stream",
     "text": [
      "1-rectangle, 2-triangle, 3-circle: 3\n",
      "Please input radius 4.4\n",
      "Square of circle is = 60.79040000000001\n"
     ]
    }
   ],
   "source": [
    "def square_rectangle():\n",
    "    w = float(input(\"Please input width: \"))\n",
    "    h = float(input(\"Please input height: \"))\n",
    "    return \"Square of rectangle is = {}\".format(w*h)\n",
    "\n",
    "\n",
    "def square_triangle():\n",
    "    b = float(input(\"Please input basis: \"))\n",
    "    h = float(input(\"Please input height: \"))\n",
    "    return \"Square of triangle is = {}\".format(0.5*b*h)\n",
    "\n",
    "\n",
    "def square_circle():\n",
    "    PI = 3.14\n",
    "    r = float(input(\"Please input radius \"))\n",
    "    return \"Square of circle is = {}\".format(PI*r**2)\n",
    "\n",
    "\n",
    "def change_figure():\n",
    "    change_figure = input(\"1-rectangle, 2-triangle, 3-circle: \")\n",
    "    \n",
    "    if change_figure == '1':\n",
    "        return square_rectangle()\n",
    "    elif change_figure == '2':\n",
    "        return square_triangle()\n",
    "    elif change_figure == '3':\n",
    "        return square_circle()\n",
    "    else:\n",
    "        print(\"Input Error\")\n",
    "        \n",
    "print(change_figure())\n",
    "    \n",
    "\n",
    "    "
   ]
  },
  {
   "cell_type": "code",
   "execution_count": null,
   "id": "a9164a36",
   "metadata": {},
   "outputs": [],
   "source": []
  },
  {
   "cell_type": "code",
   "execution_count": null,
   "id": "531ecdef",
   "metadata": {},
   "outputs": [],
   "source": []
  }
 ],
 "metadata": {
  "kernelspec": {
   "display_name": "Python 3",
   "language": "python",
   "name": "python3"
  },
  "language_info": {
   "codemirror_mode": {
    "name": "ipython",
    "version": 3
   },
   "file_extension": ".py",
   "mimetype": "text/x-python",
   "name": "python",
   "nbconvert_exporter": "python",
   "pygments_lexer": "ipython3",
   "version": "3.8.8"
  }
 },
 "nbformat": 4,
 "nbformat_minor": 5
}
