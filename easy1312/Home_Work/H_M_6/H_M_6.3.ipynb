{
 "cells": [
  {
   "cell_type": "code",
   "execution_count": 2,
   "id": "4efcd7fe",
   "metadata": {},
   "outputs": [
    {
     "name": "stdout",
     "output_type": "stream",
     "text": [
      "Write your word - Smile\n",
      "Number of characters in word \"Smile\" is 5\n"
     ]
    }
   ],
   "source": [
    "word=input(\"Write your word - \")\n",
    "\n",
    "def characters(word):\n",
    "    return len(word)\n",
    "\n",
    "print(f'Number of characters in word \"{word}\" is {characters(word)}')"
   ]
  },
  {
   "cell_type": "code",
   "execution_count": null,
   "id": "d096de4d",
   "metadata": {},
   "outputs": [],
   "source": []
  }
 ],
 "metadata": {
  "kernelspec": {
   "display_name": "Python 3",
   "language": "python",
   "name": "python3"
  },
  "language_info": {
   "codemirror_mode": {
    "name": "ipython",
    "version": 3
   },
   "file_extension": ".py",
   "mimetype": "text/x-python",
   "name": "python",
   "nbconvert_exporter": "python",
   "pygments_lexer": "ipython3",
   "version": "3.8.8"
  }
 },
 "nbformat": 4,
 "nbformat_minor": 5
}
