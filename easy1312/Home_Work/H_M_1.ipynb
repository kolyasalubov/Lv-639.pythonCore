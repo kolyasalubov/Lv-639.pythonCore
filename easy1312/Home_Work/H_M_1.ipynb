{
 "cells": [
  {
   "cell_type": "code",
   "execution_count": 1,
   "id": "a53ed720",
   "metadata": {},
   "outputs": [
    {
     "name": "stdout",
     "output_type": "stream",
     "text": [
      "What is your name?\n",
      "Mery\n",
      "How old you?\n",
      "26\n",
      "Where do you live?\n",
      "Lviv\n",
      "Hello, Mery name\n",
      "Your age is: 26 age\n",
      "You live in: Lviv city\n"
     ]
    }
   ],
   "source": [
    "\n",
    "name = input(\"What is your name?\\n\")\n",
    "\n",
    "try:\n",
    "    age = int(input(\"How old you?\\n\"))\n",
    "    age == int(age)\n",
    "except:\n",
    "    print(\"This is not Age\")\n",
    "    age = int(input(\"How old you?\\n\"))   \n",
    "city = input(\"Where do you live?\\n\")\n",
    "   \n",
    "\n",
    "print(\"Hello, \" + name + \" name\")\n",
    "print(\"Your age is: \" + str(age)+ \" age\")\n",
    "print(\"You live in: \" + city + \" city\")"
   ]
  },
  {
   "cell_type": "code",
   "execution_count": 2,
   "id": "122d2751",
   "metadata": {},
   "outputs": [
    {
     "name": "stdout",
     "output_type": "stream",
     "text": [
      "first number: 5\n",
      "second number: 12\n",
      "answer: 17\n",
      "answer: -7\n",
      "answer: 60\n",
      "answer: 0.4166666666666667\n",
      "answer: 244140625\n",
      "answer: 5\n"
     ]
    }
   ],
   "source": [
    "a = int(input(\"first number: \"))\n",
    "b = int(input(\"second number: \"))\n",
    "print(\"answer: \"+ str(a+b))\n",
    "print(\"answer: \" + str(a-b))\n",
    "print(\"answer: \" + str(a*b))\n",
    "print(\"answer: \" + str(a/b))\n",
    "print(\"answer: \" + str(a**b))\n",
    "print(\"answer: \" + str(a%b))\n"
   ]
  },
  {
   "cell_type": "code",
   "execution_count": null,
   "id": "84181d2b",
   "metadata": {},
   "outputs": [],
   "source": []
  },
  {
   "cell_type": "code",
   "execution_count": null,
   "id": "5b56adde",
   "metadata": {},
   "outputs": [],
   "source": []
  }
 ],
 "metadata": {
  "kernelspec": {
   "display_name": "Python 3",
   "language": "python",
   "name": "python3"
  },
  "language_info": {
   "codemirror_mode": {
    "name": "ipython",
    "version": 3
   },
   "file_extension": ".py",
   "mimetype": "text/x-python",
   "name": "python",
   "nbconvert_exporter": "python",
   "pygments_lexer": "ipython3",
   "version": "3.8.8"
  }
 },
 "nbformat": 4,
 "nbformat_minor": 5
}
