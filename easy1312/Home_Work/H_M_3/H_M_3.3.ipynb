{
 "cells": [
  {
   "cell_type": "code",
   "execution_count": null,
   "id": "9f917eb7",
   "metadata": {},
   "outputs": [],
   "source": [
    "number_1=1234\n",
    "number_2=4321\n",
    "print(f\"First number {number_1}, second number {number_2}\")\n",
    "number_1,number_2=number_2,number_1\n",
    "print(f\"After change: first number {number_1}, second number {number_2}\")"
   ]
  }
 ],
 "metadata": {
  "kernelspec": {
   "display_name": "Python 3",
   "language": "python",
   "name": "python3"
  },
  "language_info": {
   "codemirror_mode": {
    "name": "ipython",
    "version": 3
   },
   "file_extension": ".py",
   "mimetype": "text/x-python",
   "name": "python",
   "nbconvert_exporter": "python",
   "pygments_lexer": "ipython3",
   "version": "3.8.8"
  }
 },
 "nbformat": 4,
 "nbformat_minor": 5
}
