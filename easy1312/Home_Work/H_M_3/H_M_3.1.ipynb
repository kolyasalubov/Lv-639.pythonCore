{
 "cells": [
  {
   "cell_type": "code",
   "execution_count": 1,
   "id": "2c9e5dfc",
   "metadata": {},
   "outputs": [
    {
     "name": "stdout",
     "output_type": "stream",
     "text": [
      "Multiply numbers is 1680\n",
      "Reverse numbers is 8765\n",
      "Sorted numbers is ['5', '6', '7', '8']\n"
     ]
    }
   ],
   "source": [
    "number_1=5678\n",
    "number_str=str(number_1)\n",
    "multiply_numbers=1\n",
    "for i in range(len(number_str)):\n",
    "        multiply_numbers*=int(number_str[i])\n",
    "print(f\"Multiply numbers is {multiply_numbers}\")\n",
    "print(f\"Reverse numbers is {number_str[::-1]}\")\n",
    "print(f\"Sorted numbers is {sorted(number_str)}\")"
   ]
  },
  {
   "cell_type": "code",
   "execution_count": null,
   "id": "16e23053",
   "metadata": {},
   "outputs": [],
   "source": []
  }
 ],
 "metadata": {
  "kernelspec": {
   "display_name": "Python 3",
   "language": "python",
   "name": "python3"
  },
  "language_info": {
   "codemirror_mode": {
    "name": "ipython",
    "version": 3
   },
   "file_extension": ".py",
   "mimetype": "text/x-python",
   "name": "python",
   "nbconvert_exporter": "python",
   "pygments_lexer": "ipython3",
   "version": "3.8.8"
  }
 },
 "nbformat": 4,
 "nbformat_minor": 5
}
