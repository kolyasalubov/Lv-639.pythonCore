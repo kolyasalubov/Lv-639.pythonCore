{
 "cells": [
  {
   "cell_type": "code",
   "execution_count": null,
   "id": "a1b9728b",
   "metadata": {},
   "outputs": [],
   "source": [
    "philosofy_of_python='''Beautiful is better than ugly. Explicit is better than implicit.Simple is better than complex.\n",
    "Complex is better than complicated. Flat is better than nested. Sparse is better than dense. Readability counts.\n",
    "Special cases aren't special enough to break the rules. Although practicality beats purity. Errors should never pass silently.\n",
    "Unless explicitly silenced. In the face of ambiguity, refuse the temptation to guess.\n",
    "There should be one-- and preferably only one --obvious way to do it. Although that way may not be obvious at first unless you're Dutch.\n",
    "Now is better than never. Although never is often better than *right* now. If the implementation is hard to explain, it's a bad idea.\n",
    "If the implementation is easy to explain, it may be a good idea. Namespaces are one honking great idea -- let's do more of those!'''\n",
    "print(f\"Text is {philosofy_of_python}\")\n",
    "print(f\"Better is {philosofy_of_python.lower().count('better')}\")\n",
    "print(f\"Never is {philosofy_of_python.lower().count('never')}\")\n",
    "print(f\"Is is {philosofy_of_python.lower().count('is')}\")\n",
    "print(f\"Upper text is {philosofy_of_python.upper()}\")\n",
    "print(f\"Text with & is {philosofy_of_python.replace('i','&')}\")"
   ]
  },
  {
   "cell_type": "code",
   "execution_count": null,
   "id": "b7711179",
   "metadata": {},
   "outputs": [],
   "source": [
    "number_1=1234\n",
    "number_2=4321\n",
    "print(f\"First number {number_1}, second number {number_2}\")\n",
    "number_1,number_2=number_2,number_1\n",
    "print(f\"After change: first number {number_1}, second number {number_2}\")"
   ]
  }
 ],
 "metadata": {
  "kernelspec": {
   "display_name": "Python 3",
   "language": "python",
   "name": "python3"
  },
  "language_info": {
   "codemirror_mode": {
    "name": "ipython",
    "version": 3
   },
   "file_extension": ".py",
   "mimetype": "text/x-python",
   "name": "python",
   "nbconvert_exporter": "python",
   "pygments_lexer": "ipython3",
   "version": "3.8.8"
  }
 },
 "nbformat": 4,
 "nbformat_minor": 5
}
