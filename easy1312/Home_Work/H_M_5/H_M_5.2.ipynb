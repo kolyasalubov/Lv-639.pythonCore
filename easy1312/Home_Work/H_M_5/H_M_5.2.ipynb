{
 "cells": [
  {
   "cell_type": "code",
   "execution_count": 5,
   "id": "0afca3eb",
   "metadata": {},
   "outputs": [
    {
     "name": "stdout",
     "output_type": "stream",
     "text": [
      "Please enter your login: First\n",
      "Good day to you, First!\n"
     ]
    }
   ],
   "source": [
    "login_user = input(\"Please enter your login: \")\n",
    "if login_user == \"First\":\n",
    "    print(\"Good day to you, First!\")\n",
    "else:\n",
    "    print(\"Error! Please enter right login!\")\n"
   ]
  },
  {
   "cell_type": "code",
   "execution_count": null,
   "id": "dcd1ce64",
   "metadata": {},
   "outputs": [],
   "source": []
  }
 ],
 "metadata": {
  "kernelspec": {
   "display_name": "Python 3",
   "language": "python",
   "name": "python3"
  },
  "language_info": {
   "codemirror_mode": {
    "name": "ipython",
    "version": 3
   },
   "file_extension": ".py",
   "mimetype": "text/x-python",
   "name": "python",
   "nbconvert_exporter": "python",
   "pygments_lexer": "ipython3",
   "version": "3.8.8"
  }
 },
 "nbformat": 4,
 "nbformat_minor": 5
}
