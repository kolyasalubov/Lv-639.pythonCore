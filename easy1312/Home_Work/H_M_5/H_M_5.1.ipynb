{
 "cells": [
  {
   "cell_type": "code",
   "execution_count": 1,
   "id": "30214185",
   "metadata": {},
   "outputs": [
    {
     "name": "stdout",
     "output_type": "stream",
     "text": [
      "The range of numbers is:  [1, 2, 3, 4, 5, 6, 7, 8, 9, 10]\n",
      "\n",
      "The even numbers that are divisible by 2:  [2, 4, 6, 8, 10]\n",
      "The odd numbers, which are divisible by 3:  [3, 9]\n",
      "The numbers, that are not divisible by 2 and 3:  [1, 7]\n"
     ]
    }
   ],
   "source": [
    "range_of_numbers = [i for i in range (1, 11)]\n",
    "div_by_2 = [i for i in range (1, 11) if i % 2 == 0 ]\n",
    "div_by_3 = [i for i in range (1, 11) if i % 2 == 1 and i % 3 == 0]\n",
    "other_numbers = [i for i in range (1, 11) if i % 2 == 1 and i % 3 == 1]\n",
    "print('The range of numbers is: ', range_of_numbers)\n",
    "print('')\n",
    "print('The even numbers that are divisible by 2: ',div_by_2)\n",
    "print('The odd numbers, which are divisible by 3: ', div_by_3)\n",
    "print('The numbers, that are not divisible by 2 and 3: ', other_numbers)"
   ]
  },
  {
   "cell_type": "code",
   "execution_count": null,
   "id": "885d2135",
   "metadata": {},
   "outputs": [],
   "source": []
  }
 ],
 "metadata": {
  "kernelspec": {
   "display_name": "Python 3",
   "language": "python",
   "name": "python3"
  },
  "language_info": {
   "codemirror_mode": {
    "name": "ipython",
    "version": 3
   },
   "file_extension": ".py",
   "mimetype": "text/x-python",
   "name": "python",
   "nbconvert_exporter": "python",
   "pygments_lexer": "ipython3",
   "version": "3.8.8"
  }
 },
 "nbformat": 4,
 "nbformat_minor": 5
}
